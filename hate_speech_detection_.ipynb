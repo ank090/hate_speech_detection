{
  "nbformat": 4,
  "nbformat_minor": 0,
  "metadata": {
    "colab": {
      "name": "hate_speech_detection .ipynb",
      "provenance": [],
      "collapsed_sections": [],
      "authorship_tag": "ABX9TyMH++MFI61t4uEVETLmb5Y8",
      "include_colab_link": true
    },
    "kernelspec": {
      "name": "python3",
      "display_name": "Python 3"
    },
    "language_info": {
      "name": "python"
    }
  },
  "cells": [
    {
      "cell_type": "markdown",
      "metadata": {
        "id": "view-in-github",
        "colab_type": "text"
      },
      "source": [
        "<a href=\"https://colab.research.google.com/github/ank090/hate_speech_detection/blob/main/hate_speech_detection_.ipynb\" target=\"_parent\"><img src=\"https://colab.research.google.com/assets/colab-badge.svg\" alt=\"Open In Colab\"/></a>"
      ]
    },
    {
      "cell_type": "markdown",
      "metadata": {
        "id": "KhR9vGKAxlYU"
      },
      "source": [
        "importing libraries"
      ]
    },
    {
      "cell_type": "code",
      "metadata": {
        "colab": {
          "base_uri": "https://localhost:8080/"
        },
        "id": "nw2MiPLExc8G",
        "outputId": "a321be74-2777-432f-d61e-6468b195dc95"
      },
      "source": [
        "import pandas as pd\n",
        "import numpy as np\n",
        "import nltk\n",
        "nltk.download('wordnet')\n",
        "from sklearn.feature_extraction.text import CountVectorizer\n",
        "from wordcloud import WordCloud, STOPWORDS\n",
        "from nltk.stem import WordNetLemmatizer\n",
        "import re"
      ],
      "execution_count": 33,
      "outputs": [
        {
          "output_type": "stream",
          "name": "stdout",
          "text": [
            "[nltk_data] Downloading package wordnet to /root/nltk_data...\n",
            "[nltk_data]   Package wordnet is already up-to-date!\n"
          ]
        }
      ]
    },
    {
      "cell_type": "markdown",
      "metadata": {
        "id": "-_PsL8UPy8w8"
      },
      "source": [
        "Loading dataset"
      ]
    },
    {
      "cell_type": "code",
      "metadata": {
        "id": "3kJ-fdshy8i8"
      },
      "source": [
        "dataset=pd.read_csv('hate_speech_detection.csv')\n",
        "tweets=dataset.iloc[:,2].values\n",
        "test=dataset.iloc[:10,2].values #for checking the working of clean method"
      ],
      "execution_count": 34,
      "outputs": []
    },
    {
      "cell_type": "markdown",
      "metadata": {
        "id": "uTtHSq-UzaKz"
      },
      "source": [
        "Cleaning text"
      ]
    },
    {
      "cell_type": "code",
      "metadata": {
        "colab": {
          "base_uri": "https://localhost:8080/"
        },
        "id": "ZqiPHn1czLBX",
        "outputId": "92fe07fa-6219-4e5f-ab83-b753ec6f86ea"
      },
      "source": [
        "def clean(text):\n",
        "  STOPWORDS.update({'is','the','of','to','on','so'})\n",
        "  clean_tweet=[]\n",
        "  for i in range(len(text)):\n",
        "    sample=re.sub(r'[^a-zA-Z]',\" \",text[i])\n",
        "    sample=re.sub(r\"[.,'\\\"@#!?]\",\" \",sample)\n",
        "    sample=sample.lower()\n",
        "    sample=sample.split()\n",
        "    lm=WordNetLemmatizer()\n",
        "    for word in sample:\n",
        "      word=lm.lemmatize(word)\n",
        "    sample=list(set(sample)-STOPWORDS)\n",
        "    sample=\" \".join(sample)\n",
        "    clean_tweet.append(sample)\n",
        "  \n",
        "  return clean_tweet\n",
        "clean(test)#Showing the 10 clean tweets from dataset "
      ],
      "execution_count": 35,
      "outputs": [
        {
          "output_type": "execute_result",
          "data": {
            "text/plain": [
              "['run selfish dysfunctional drags dysfunction user father kids',\n",
              " 'vans disapointed pdx credit thanks don getthanked t lyft cause offer wheelchair use user',\n",
              " 'majesty bihday',\n",
              " 'love u take model time ur',\n",
              " 'society factsguide motivation now',\n",
              " 'chaos big allshowandnogo talking fare huge leave pay fan disputes',\n",
              " 'danny user camping tomorrow',\n",
              " 'think year hate next exams girl t imagine revolutionschool school actorslife',\n",
              " 'love clevelandcavaliers allin land cavs won cleveland champions',\n",
              " 's m welcome gr user']"
            ]
          },
          "metadata": {},
          "execution_count": 35
        }
      ]
    },
    {
      "cell_type": "markdown",
      "metadata": {
        "id": "s6AdniWb__UU"
      },
      "source": [
        "Creating tokens"
      ]
    },
    {
      "cell_type": "code",
      "metadata": {
        "id": "2nCWNr5Y__Ar"
      },
      "source": [
        "cv=CountVectorizer(max_features=10000)\n",
        "x=cv.fit_transform(clean(tweets)).toarray()\n",
        "y=dataset.iloc[:,1].values"
      ],
      "execution_count": 36,
      "outputs": []
    },
    {
      "cell_type": "markdown",
      "metadata": {
        "id": "HVnzQvHiBC8n"
      },
      "source": [
        "Splitting dataset in to test and training set"
      ]
    },
    {
      "cell_type": "code",
      "metadata": {
        "id": "BvFP38N72l2V"
      },
      "source": [
        "from sklearn.model_selection import train_test_split\n",
        "xtrain,xtest,ytrain,ytest=train_test_split(x,y,test_size=0.3,random_state=0)"
      ],
      "execution_count": 37,
      "outputs": []
    },
    {
      "cell_type": "markdown",
      "metadata": {
        "id": "pkFUAEuhBp58"
      },
      "source": [
        "Training model on training set"
      ]
    },
    {
      "cell_type": "code",
      "metadata": {
        "id": "vbLpfIbVBpki"
      },
      "source": [
        "from sklearn.ensemble import RandomForestClassifier\n",
        "rf=RandomForestClassifier(n_estimators=50,criterion='entropy')\n",
        "rf.fit(xtrain,ytrain)\n",
        "ypred=rf.predict(xtest)"
      ],
      "execution_count": 38,
      "outputs": []
    },
    {
      "cell_type": "markdown",
      "metadata": {
        "id": "zUWkxQYoCiN1"
      },
      "source": [
        "Checking accuracy"
      ]
    },
    {
      "cell_type": "code",
      "metadata": {
        "colab": {
          "base_uri": "https://localhost:8080/"
        },
        "id": "BYFwDVBjByqz",
        "outputId": "ffbf21f4-3061-490c-ae6c-6ab8d01e2f54"
      },
      "source": [
        "from sklearn.metrics import classification_report\n",
        "print('Classification Report of the Random Forest model: \\n',classification_report(ytest,ypred))"
      ],
      "execution_count": 39,
      "outputs": [
        {
          "output_type": "stream",
          "name": "stdout",
          "text": [
            "Classification Report of the Random Forest model: \n",
            "               precision    recall  f1-score   support\n",
            "\n",
            "           0       0.82      0.90      0.86       887\n",
            "           1       0.85      0.75      0.80       686\n",
            "\n",
            "    accuracy                           0.83      1573\n",
            "   macro avg       0.84      0.82      0.83      1573\n",
            "weighted avg       0.83      0.83      0.83      1573\n",
            "\n"
          ]
        }
      ]
    }
  ]
}