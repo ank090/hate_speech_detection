{
  "nbformat": 4,
  "nbformat_minor": 0,
  "metadata": {
    "colab": {
      "name": "hate_speech_detection .ipynb",
      "provenance": [],
      "collapsed_sections": [],
      "toc_visible": true,
      "authorship_tag": "ABX9TyPa7FzgY6pFVjMuhGWGZOoF"
    },
    "kernelspec": {
      "name": "python3",
      "display_name": "Python 3"
    },
    "language_info": {
      "name": "python"
    }
  },
  "cells": [
    {
      "cell_type": "markdown",
      "metadata": {
        "id": "KhR9vGKAxlYU"
      },
      "source": [
        "importing libraries"
      ]
    },
    {
      "cell_type": "code",
      "metadata": {
        "id": "nw2MiPLExc8G"
      },
      "source": [
        "import pandas as pd\n",
        "import numpy as np\n",
        "import nltk\n",
        "#nltk.download('wordnet')\n",
        "from sklearn.feature_extraction.text import CountVectorizer\n",
        "from wordcloud import WordCloud, STOPWORDS\n",
        "from nltk.stem import WordNetLemmatizer\n",
        "import re\n",
        "from imblearn.over_sampling import SMOTE\n",
        "from sklearn.model_selection import GridSearchCV"
      ],
      "execution_count": 1,
      "outputs": []
    },
    {
      "cell_type": "markdown",
      "metadata": {
        "id": "-_PsL8UPy8w8"
      },
      "source": [
        "Loading dataset"
      ]
    },
    {
      "cell_type": "code",
      "metadata": {
        "id": "3kJ-fdshy8i8",
        "colab": {
          "base_uri": "https://localhost:8080/"
        },
        "outputId": "f516061c-ec4c-477b-f5f6-11cc6b475d98"
      },
      "source": [
        "dataset=pd.read_csv('hate_speech_detection .csv')\n",
        "tweets=dataset.iloc[:,2].values\n",
        "test=[dataset.iloc[1,2]] #for checking the working of clean \n",
        "y=dataset.drop(['tweet','id'],axis='columns')\n",
        "y.value_counts()"
      ],
      "execution_count": 2,
      "outputs": [
        {
          "output_type": "execute_result",
          "data": {
            "text/plain": [
              "label\n",
              "0        3000\n",
              "1        2242\n",
              "dtype: int64"
            ]
          },
          "metadata": {},
          "execution_count": 2
        }
      ]
    },
    {
      "cell_type": "markdown",
      "metadata": {
        "id": "uTtHSq-UzaKz"
      },
      "source": [
        "Cleaning text"
      ]
    },
    {
      "cell_type": "code",
      "metadata": {
        "colab": {
          "base_uri": "https://localhost:8080/"
        },
        "id": "ZqiPHn1czLBX",
        "outputId": "1c04c18b-d74b-4fa7-bee2-00c0fd297074"
      },
      "source": [
        "def clean(text):\n",
        "  STOPWORDS.update({'is','the','of','to','on','so'})\n",
        "  clean_tweet=[]\n",
        "  for i in range(len(text)):\n",
        "    sample=re.sub(r'[^a-zA-Z\\n]',\" \",text[i])\n",
        "    sample=re.sub(r\"[.,'\\\"@#!?]\",\" \",sample)\n",
        "    sample=re.sub('user',\" \",sample)\n",
        "    sample=sample.lower()\n",
        "    sample=sample.split()\n",
        "    lm=WordNetLemmatizer()\n",
        "    for word in sample:\n",
        "      word=lm.lemmatize(word)\n",
        "    sample=list(set(sample)-STOPWORDS)\n",
        "    sample=\" \".join(sample)\n",
        "    clean_tweet.append(sample) \n",
        "  return clean_tweet\n",
        "type(clean(tweets))#Showing the 10 clean tweets from dataset "
      ],
      "execution_count": 3,
      "outputs": [
        {
          "output_type": "execute_result",
          "data": {
            "text/plain": [
              "list"
            ]
          },
          "metadata": {},
          "execution_count": 3
        }
      ]
    },
    {
      "cell_type": "code",
      "metadata": {
        "id": "4VdLZpLkaDxN"
      },
      "source": [
        "def get_predicton(tweet):\n",
        "  lis=[[]]\n",
        "  lis[0].append(tweet)\n",
        "  tweet=lis\n",
        "  tweet=clean(tweet[0])\n",
        "  lol=cv.transform(clean(tweet))\n",
        "  pred=rf.predict(lol)\n",
        "  if pred[0]==1:\n",
        "    result='Toxic tweet'\n",
        "  else:\n",
        "    result='Non-Toxic tweet'\n",
        "\n",
        "  return result"
      ],
      "execution_count": 4,
      "outputs": []
    },
    {
      "cell_type": "markdown",
      "metadata": {
        "id": "s6AdniWb__UU"
      },
      "source": [
        "Creating tokens"
      ]
    },
    {
      "cell_type": "code",
      "metadata": {
        "id": "2nCWNr5Y__Ar"
      },
      "source": [
        "cv=CountVectorizer(max_features=5000)\n",
        "x=cv.fit_transform(clean(tweets)).toarray()"
      ],
      "execution_count": 5,
      "outputs": []
    },
    {
      "cell_type": "markdown",
      "source": [
        "Tackling imbalence in dataset"
      ],
      "metadata": {
        "id": "ES7fsPpMT0hT"
      }
    },
    {
      "cell_type": "code",
      "source": [
        "sm=SMOTE()\n",
        "x_sm,y_sm=sm.fit_resample(x,y)"
      ],
      "metadata": {
        "id": "42C6uUbkTznv"
      },
      "execution_count": 6,
      "outputs": []
    },
    {
      "cell_type": "code",
      "source": [
        "y_sm=y_sm['label'].values #making it nd array to feed the model"
      ],
      "metadata": {
        "id": "9OGOsf5BUUkZ"
      },
      "execution_count": 7,
      "outputs": []
    },
    {
      "cell_type": "markdown",
      "metadata": {
        "id": "HVnzQvHiBC8n"
      },
      "source": [
        "Splitting dataset in to test and training set"
      ]
    },
    {
      "cell_type": "code",
      "metadata": {
        "id": "BvFP38N72l2V",
        "colab": {
          "base_uri": "https://localhost:8080/"
        },
        "outputId": "21ae0628-e5d4-43ba-8d29-3afb619aa5f2"
      },
      "source": [
        "from sklearn.model_selection import train_test_split\n",
        "xtrain,xtest,ytrain,ytest=train_test_split(x_sm,y_sm,test_size=0.3,random_state=0)\n",
        "type(ytrain)"
      ],
      "execution_count": 8,
      "outputs": [
        {
          "output_type": "execute_result",
          "data": {
            "text/plain": [
              "numpy.ndarray"
            ]
          },
          "metadata": {},
          "execution_count": 8
        }
      ]
    },
    {
      "cell_type": "markdown",
      "metadata": {
        "id": "pkFUAEuhBp58"
      },
      "source": [
        "Training model on training set"
      ]
    },
    {
      "cell_type": "code",
      "metadata": {
        "id": "vbLpfIbVBpki"
      },
      "source": [
        "from sklearn.ensemble import RandomForestClassifier\n",
        "rf=RandomForestClassifier(n_estimators=50,criterion='gini',max_features='log2') #best parameter from Grid search is used in this model\n",
        "rf.fit(xtrain,ytrain)\n",
        "ypred=rf.predict(xtest)"
      ],
      "execution_count": 9,
      "outputs": []
    },
    {
      "cell_type": "markdown",
      "source": [
        "Grid Search with cross validation"
      ],
      "metadata": {
        "id": "1jDrKAPsrv_Q"
      }
    },
    {
      "cell_type": "code",
      "metadata": {
        "id": "HYh7fFjl2sQ8",
        "colab": {
          "base_uri": "https://localhost:8080/",
          "height": 70
        },
        "outputId": "01dd5277-4e7f-4868-ceb8-d36b0e486457"
      },
      "source": [
        "param=[{\n",
        "    'n_estimators':[50,100,120],\n",
        "    'criterion':['gini','entropy'],\n",
        "    'max_features':['sqrt','log2','']}]\n",
        "gw=GridSearchCV(estimator=rf,param_grid=param,scoring='accuracy',cv=5)\n",
        "gw.fit(xtrain,ytrain)\n",
        "best_acc=gw.best_score_\n",
        "beat_param=gw.best_params_\n",
        "print('Best Accuracy: {:.2f} %'.format(best_acc*100) )\n",
        "print('best param:',beat_param )\n"
      ],
      "execution_count": 10,
      "outputs": [
        {
          "output_type": "execute_result",
          "data": {
            "application/vnd.google.colaboratory.intrinsic+json": {
              "type": "string"
            },
            "text/plain": [
              "\"param=[{\\n    'n_estimators':[50,100,120],\\n    'criterion':['gini','entropy'],\\n    'max_features':['sqrt','log2','']}]\\ngw=GridSearchCV(estimator=rf,param_grid=param,scoring='accuracy',cv=5)\\ngw.fit(xtrain,ytrain)\\nbest_acc=gw.best_score_\\nbeat_param=gw.best_params_\\nprint('Best Accuracy: {:.2f} %'.format(best_acc*100) )\\nprint('best param:',beat_param )\\n\""
            ]
          },
          "metadata": {},
          "execution_count": 10
        }
      ]
    },
    {
      "cell_type": "markdown",
      "metadata": {
        "id": "zUWkxQYoCiN1"
      },
      "source": [
        "Checking accuracy"
      ]
    },
    {
      "cell_type": "code",
      "metadata": {
        "colab": {
          "base_uri": "https://localhost:8080/"
        },
        "id": "BYFwDVBjByqz",
        "outputId": "5bee948f-11ad-4497-e320-7a71af09b931"
      },
      "source": [
        "from sklearn.metrics import classification_report\n",
        "print('Classification Report of the Random Forest model: \\n',classification_report(ytest,ypred))"
      ],
      "execution_count": 11,
      "outputs": [
        {
          "output_type": "stream",
          "name": "stdout",
          "text": [
            "Classification Report of the Random Forest model: \n",
            "               precision    recall  f1-score   support\n",
            "\n",
            "           0       0.89      0.82      0.85       895\n",
            "           1       0.83      0.90      0.86       905\n",
            "\n",
            "    accuracy                           0.86      1800\n",
            "   macro avg       0.86      0.86      0.86      1800\n",
            "weighted avg       0.86      0.86      0.86      1800\n",
            "\n"
          ]
        }
      ]
    },
    {
      "cell_type": "markdown",
      "metadata": {
        "id": "OrcZcvdLfG3h"
      },
      "source": [
        "Testing model on a random tweet"
      ]
    },
    {
      "cell_type": "code",
      "metadata": {
        "colab": {
          "base_uri": "https://localhost:8080/"
        },
        "id": "R4Yp97MrfGnd",
        "outputId": "850044de-082b-41a6-f693-1120b746d5a4"
      },
      "source": [
        "print(get_predicton(\"@user you never answered me about your statement on the #nazi's over #hatred, &amp; #bigotry being found wâ¦\"))"
      ],
      "execution_count": 12,
      "outputs": [
        {
          "output_type": "stream",
          "name": "stdout",
          "text": [
            "['statement bigotry amp hatred answered nazi found s never w']\n",
            "Toxic tweet\n"
          ]
        }
      ]
    }
  ]
}